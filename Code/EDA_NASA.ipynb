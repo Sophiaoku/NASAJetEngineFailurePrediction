{
  "cells": [
    {
      "cell_type": "code",
      "execution_count": null,
      "id": "ddeec55f-195d-4d7e-87a8-c81f40403620",
      "metadata": {
        "id": "ddeec55f-195d-4d7e-87a8-c81f40403620"
      },
      "outputs": [],
      "source": [
        "%matplotlib inline\n",
        "import pandas as pd\n",
        "import numpy as np\n",
        "import matplotlib.pyplot as plt\n",
        "import seaborn as sns; sns.set()\n",
        "from sklearn.preprocessing import MinMaxScaler\n",
        "\n",
        "from scipy import stats"
      ]
    },
    {
      "cell_type": "code",
      "source": [
        "from google.colab import drive\n",
        "drive.mount('/content/drive')"
      ],
      "metadata": {
        "colab": {
          "base_uri": "https://localhost:8080/"
        },
        "id": "SKwEX7rSXgCU",
        "outputId": "9d2ee63e-e0f9-4da0-fca5-755f4e8a6b89"
      },
      "id": "SKwEX7rSXgCU",
      "execution_count": null,
      "outputs": [
        {
          "output_type": "stream",
          "name": "stdout",
          "text": [
            "Mounted at /content/drive\n"
          ]
        }
      ]
    },
    {
      "cell_type": "code",
      "source": [
        "#UN-COMMENT OUT IF YOU ARE USING GOOGLE COLLAB\n",
        "identification = ['unit_no', 'cycle_times']\n",
        "operationalsettings = ['ops_1', 'ops_2', 'ops_3']\n",
        "sensors = ['s_{}'.format(i) for i in range(1,22)]\n",
        "columnnames = identification + operationalsettings + sensors\n",
        "\n",
        "train_file_path = '/content/drive/MyDrive/OMSA Final Project/MGT 6748/CMAPSSData/train_FD001.txt'\n",
        "test_file_path = '/content/drive/MyDrive/OMSA Final Project/MGT 6748/CMAPSSData/test_FD001.txt'\n",
        "rul_file_path = '/content/drive/MyDrive/OMSA Final Project/MGT 6748/CMAPSSData/RUL_FD001.txt'\n",
        "\n",
        "traindf = pd.read_csv(train_file_path, sep=r'\\s+', header=None, names = columnnames)\n",
        "testdf = pd.read_csv(test_file_path, sep=r'\\s+', header=None, names = columnnames)\n",
        "test_rul = pd.read_csv(rul_file_path, sep=r'\\s+', header=None, names=['RUL'])"
      ],
      "metadata": {
        "id": "f3uAi8XhYFl9"
      },
      "id": "f3uAi8XhYFl9",
      "execution_count": null,
      "outputs": []
    },
    {
      "cell_type": "code",
      "source": [
        "testdf.shape"
      ],
      "metadata": {
        "colab": {
          "base_uri": "https://localhost:8080/"
        },
        "id": "5-yNIt3M8EUr",
        "outputId": "f22b764b-daf2-4c7e-f1ab-bf0d7e0b7cb3"
      },
      "id": "5-yNIt3M8EUr",
      "execution_count": null,
      "outputs": [
        {
          "output_type": "execute_result",
          "data": {
            "text/plain": [
              "(13096, 26)"
            ]
          },
          "metadata": {},
          "execution_count": 16
        }
      ]
    },
    {
      "cell_type": "code",
      "source": [
        "test_rul.shape"
      ],
      "metadata": {
        "colab": {
          "base_uri": "https://localhost:8080/"
        },
        "id": "Z0T4yqYloKPU",
        "outputId": "489e6376-05d7-4ac0-e146-5a00716a4fee"
      },
      "id": "Z0T4yqYloKPU",
      "execution_count": null,
      "outputs": [
        {
          "output_type": "execute_result",
          "data": {
            "text/plain": [
              "(100, 1)"
            ]
          },
          "metadata": {},
          "execution_count": 15
        }
      ]
    },
    {
      "cell_type": "markdown",
      "id": "523c70e6-43a5-419b-bb5e-268e1c46e9c5",
      "metadata": {
        "jp-MarkdownHeadingCollapsed": true,
        "id": "523c70e6-43a5-419b-bb5e-268e1c46e9c5"
      },
      "source": [
        "### <b>IMPORT THE DATASETS</b>"
      ]
    },
    {
      "cell_type": "code",
      "execution_count": null,
      "id": "14095118-4b08-4684-a2a4-0f49aae3fc31",
      "metadata": {
        "id": "14095118-4b08-4684-a2a4-0f49aae3fc31"
      },
      "outputs": [],
      "source": [
        "# identification = ['unit_no', 'cycle_times']\n",
        "# operationalsettings = ['ops_1', 'ops_2', 'ops_3']\n",
        "# sensors = ['s_{}'.format(i) for i in range(1,22)]\n",
        "# columnnames = identification + operationalsettings + sensors"
      ]
    },
    {
      "cell_type": "code",
      "execution_count": null,
      "id": "ca50f620-7ce8-4959-ac2d-8f3249c760a0",
      "metadata": {
        "id": "ca50f620-7ce8-4959-ac2d-8f3249c760a0"
      },
      "outputs": [],
      "source": [
        "# traindf = pd.read_csv('train_FD001.txt', sep=r'\\s+', header=None, names = columnnames)\n",
        "# testdf = pd.read_csv('test_FD001.txt', sep=r'\\s+', header=None, names = columnnames)\n",
        "# test_RUL = pd.read_csv('RUL_FD001.txt', sep=r'\\s+', header=None, names = [\"RUl\"])"
      ]
    },
    {
      "cell_type": "code",
      "execution_count": null,
      "id": "787b92dd-8793-4e67-ade4-a8ad8e261ea9",
      "metadata": {
        "id": "787b92dd-8793-4e67-ade4-a8ad8e261ea9",
        "outputId": "5d02377d-9e7b-4d4d-fb2a-e2ace0d9ff9f"
      },
      "outputs": [
        {
          "data": {
            "text/html": [
              "<div>\n",
              "<style scoped>\n",
              "    .dataframe tbody tr th:only-of-type {\n",
              "        vertical-align: middle;\n",
              "    }\n",
              "\n",
              "    .dataframe tbody tr th {\n",
              "        vertical-align: top;\n",
              "    }\n",
              "\n",
              "    .dataframe thead th {\n",
              "        text-align: right;\n",
              "    }\n",
              "</style>\n",
              "<table border=\"1\" class=\"dataframe\">\n",
              "  <thead>\n",
              "    <tr style=\"text-align: right;\">\n",
              "      <th></th>\n",
              "      <th>unit_no</th>\n",
              "      <th>cycle_times</th>\n",
              "      <th>ops_1</th>\n",
              "      <th>ops_2</th>\n",
              "      <th>ops_3</th>\n",
              "      <th>s_1</th>\n",
              "      <th>s_2</th>\n",
              "      <th>s_3</th>\n",
              "      <th>s_4</th>\n",
              "      <th>s_5</th>\n",
              "      <th>...</th>\n",
              "      <th>s_12</th>\n",
              "      <th>s_13</th>\n",
              "      <th>s_14</th>\n",
              "      <th>s_15</th>\n",
              "      <th>s_16</th>\n",
              "      <th>s_17</th>\n",
              "      <th>s_18</th>\n",
              "      <th>s_19</th>\n",
              "      <th>s_20</th>\n",
              "      <th>s_21</th>\n",
              "    </tr>\n",
              "  </thead>\n",
              "  <tbody>\n",
              "    <tr>\n",
              "      <th>0</th>\n",
              "      <td>1</td>\n",
              "      <td>1</td>\n",
              "      <td>-0.0007</td>\n",
              "      <td>-0.0004</td>\n",
              "      <td>100.0</td>\n",
              "      <td>518.67</td>\n",
              "      <td>641.82</td>\n",
              "      <td>1589.70</td>\n",
              "      <td>1400.60</td>\n",
              "      <td>14.62</td>\n",
              "      <td>...</td>\n",
              "      <td>521.66</td>\n",
              "      <td>2388.02</td>\n",
              "      <td>8138.62</td>\n",
              "      <td>8.4195</td>\n",
              "      <td>0.03</td>\n",
              "      <td>392</td>\n",
              "      <td>2388</td>\n",
              "      <td>100.0</td>\n",
              "      <td>39.06</td>\n",
              "      <td>23.4190</td>\n",
              "    </tr>\n",
              "    <tr>\n",
              "      <th>1</th>\n",
              "      <td>1</td>\n",
              "      <td>2</td>\n",
              "      <td>0.0019</td>\n",
              "      <td>-0.0003</td>\n",
              "      <td>100.0</td>\n",
              "      <td>518.67</td>\n",
              "      <td>642.15</td>\n",
              "      <td>1591.82</td>\n",
              "      <td>1403.14</td>\n",
              "      <td>14.62</td>\n",
              "      <td>...</td>\n",
              "      <td>522.28</td>\n",
              "      <td>2388.07</td>\n",
              "      <td>8131.49</td>\n",
              "      <td>8.4318</td>\n",
              "      <td>0.03</td>\n",
              "      <td>392</td>\n",
              "      <td>2388</td>\n",
              "      <td>100.0</td>\n",
              "      <td>39.00</td>\n",
              "      <td>23.4236</td>\n",
              "    </tr>\n",
              "    <tr>\n",
              "      <th>2</th>\n",
              "      <td>1</td>\n",
              "      <td>3</td>\n",
              "      <td>-0.0043</td>\n",
              "      <td>0.0003</td>\n",
              "      <td>100.0</td>\n",
              "      <td>518.67</td>\n",
              "      <td>642.35</td>\n",
              "      <td>1587.99</td>\n",
              "      <td>1404.20</td>\n",
              "      <td>14.62</td>\n",
              "      <td>...</td>\n",
              "      <td>522.42</td>\n",
              "      <td>2388.03</td>\n",
              "      <td>8133.23</td>\n",
              "      <td>8.4178</td>\n",
              "      <td>0.03</td>\n",
              "      <td>390</td>\n",
              "      <td>2388</td>\n",
              "      <td>100.0</td>\n",
              "      <td>38.95</td>\n",
              "      <td>23.3442</td>\n",
              "    </tr>\n",
              "    <tr>\n",
              "      <th>3</th>\n",
              "      <td>1</td>\n",
              "      <td>4</td>\n",
              "      <td>0.0007</td>\n",
              "      <td>0.0000</td>\n",
              "      <td>100.0</td>\n",
              "      <td>518.67</td>\n",
              "      <td>642.35</td>\n",
              "      <td>1582.79</td>\n",
              "      <td>1401.87</td>\n",
              "      <td>14.62</td>\n",
              "      <td>...</td>\n",
              "      <td>522.86</td>\n",
              "      <td>2388.08</td>\n",
              "      <td>8133.83</td>\n",
              "      <td>8.3682</td>\n",
              "      <td>0.03</td>\n",
              "      <td>392</td>\n",
              "      <td>2388</td>\n",
              "      <td>100.0</td>\n",
              "      <td>38.88</td>\n",
              "      <td>23.3739</td>\n",
              "    </tr>\n",
              "    <tr>\n",
              "      <th>4</th>\n",
              "      <td>1</td>\n",
              "      <td>5</td>\n",
              "      <td>-0.0019</td>\n",
              "      <td>-0.0002</td>\n",
              "      <td>100.0</td>\n",
              "      <td>518.67</td>\n",
              "      <td>642.37</td>\n",
              "      <td>1582.85</td>\n",
              "      <td>1406.22</td>\n",
              "      <td>14.62</td>\n",
              "      <td>...</td>\n",
              "      <td>522.19</td>\n",
              "      <td>2388.04</td>\n",
              "      <td>8133.80</td>\n",
              "      <td>8.4294</td>\n",
              "      <td>0.03</td>\n",
              "      <td>393</td>\n",
              "      <td>2388</td>\n",
              "      <td>100.0</td>\n",
              "      <td>38.90</td>\n",
              "      <td>23.4044</td>\n",
              "    </tr>\n",
              "  </tbody>\n",
              "</table>\n",
              "<p>5 rows × 26 columns</p>\n",
              "</div>"
            ],
            "text/plain": [
              "   unit_no  cycle_times   ops_1   ops_2  ops_3     s_1     s_2      s_3  \\\n",
              "0        1            1 -0.0007 -0.0004  100.0  518.67  641.82  1589.70   \n",
              "1        1            2  0.0019 -0.0003  100.0  518.67  642.15  1591.82   \n",
              "2        1            3 -0.0043  0.0003  100.0  518.67  642.35  1587.99   \n",
              "3        1            4  0.0007  0.0000  100.0  518.67  642.35  1582.79   \n",
              "4        1            5 -0.0019 -0.0002  100.0  518.67  642.37  1582.85   \n",
              "\n",
              "       s_4    s_5  ...    s_12     s_13     s_14    s_15  s_16  s_17  s_18  \\\n",
              "0  1400.60  14.62  ...  521.66  2388.02  8138.62  8.4195  0.03   392  2388   \n",
              "1  1403.14  14.62  ...  522.28  2388.07  8131.49  8.4318  0.03   392  2388   \n",
              "2  1404.20  14.62  ...  522.42  2388.03  8133.23  8.4178  0.03   390  2388   \n",
              "3  1401.87  14.62  ...  522.86  2388.08  8133.83  8.3682  0.03   392  2388   \n",
              "4  1406.22  14.62  ...  522.19  2388.04  8133.80  8.4294  0.03   393  2388   \n",
              "\n",
              "    s_19   s_20     s_21  \n",
              "0  100.0  39.06  23.4190  \n",
              "1  100.0  39.00  23.4236  \n",
              "2  100.0  38.95  23.3442  \n",
              "3  100.0  38.88  23.3739  \n",
              "4  100.0  38.90  23.4044  \n",
              "\n",
              "[5 rows x 26 columns]"
            ]
          },
          "execution_count": 38,
          "metadata": {},
          "output_type": "execute_result"
        }
      ],
      "source": [
        "traindf.head(5)"
      ]
    },
    {
      "cell_type": "markdown",
      "id": "57d25fff-0ad1-4d11-b5f5-2151d027b6c0",
      "metadata": {
        "jp-MarkdownHeadingCollapsed": true,
        "id": "57d25fff-0ad1-4d11-b5f5-2151d027b6c0"
      },
      "source": [
        "### <b>BASIC DESCRIPTIVE STATISTICS</b>"
      ]
    },
    {
      "cell_type": "code",
      "execution_count": null,
      "id": "a8262eb3-edfa-4bbc-8751-11fb7600f871",
      "metadata": {
        "id": "a8262eb3-edfa-4bbc-8751-11fb7600f871",
        "outputId": "8eed671f-cac0-4b7c-f96b-9421cb0aaccf"
      },
      "outputs": [
        {
          "name": "stdout",
          "output_type": "stream",
          "text": [
            "Summary Statistics:\n",
            "            unit_no   cycle_times         ops_1         ops_2    ops_3  \\\n",
            "count  20631.000000  20631.000000  20631.000000  20631.000000  20631.0   \n",
            "mean      51.506568    108.807862     -0.000009      0.000002    100.0   \n",
            "std       29.227633     68.880990      0.002187      0.000293      0.0   \n",
            "min        1.000000      1.000000     -0.008700     -0.000600    100.0   \n",
            "25%       26.000000     52.000000     -0.001500     -0.000200    100.0   \n",
            "50%       52.000000    104.000000      0.000000      0.000000    100.0   \n",
            "75%       77.000000    156.000000      0.001500      0.000300    100.0   \n",
            "max      100.000000    362.000000      0.008700      0.000600    100.0   \n",
            "\n",
            "                s_1           s_2           s_3           s_4           s_5  \\\n",
            "count  2.063100e+04  20631.000000  20631.000000  20631.000000  2.063100e+04   \n",
            "mean   5.186700e+02    642.680934   1590.523119   1408.933782  1.462000e+01   \n",
            "std    6.537152e-11      0.500053      6.131150      9.000605  3.394700e-12   \n",
            "min    5.186700e+02    641.210000   1571.040000   1382.250000  1.462000e+01   \n",
            "25%    5.186700e+02    642.325000   1586.260000   1402.360000  1.462000e+01   \n",
            "50%    5.186700e+02    642.640000   1590.100000   1408.040000  1.462000e+01   \n",
            "75%    5.186700e+02    643.000000   1594.380000   1414.555000  1.462000e+01   \n",
            "max    5.186700e+02    644.530000   1616.910000   1441.490000  1.462000e+01   \n",
            "\n",
            "       ...          s_12          s_13          s_14          s_15  \\\n",
            "count  ...  20631.000000  20631.000000  20631.000000  20631.000000   \n",
            "mean   ...    521.413470   2388.096152   8143.752722      8.442146   \n",
            "std    ...      0.737553      0.071919     19.076176      0.037505   \n",
            "min    ...    518.690000   2387.880000   8099.940000      8.324900   \n",
            "25%    ...    520.960000   2388.040000   8133.245000      8.414900   \n",
            "50%    ...    521.480000   2388.090000   8140.540000      8.438900   \n",
            "75%    ...    521.950000   2388.140000   8148.310000      8.465600   \n",
            "max    ...    523.380000   2388.560000   8293.720000      8.584800   \n",
            "\n",
            "               s_16          s_17     s_18     s_19          s_20  \\\n",
            "count  2.063100e+04  20631.000000  20631.0  20631.0  20631.000000   \n",
            "mean   3.000000e-02    393.210654   2388.0    100.0     38.816271   \n",
            "std    1.556432e-14      1.548763      0.0      0.0      0.180746   \n",
            "min    3.000000e-02    388.000000   2388.0    100.0     38.140000   \n",
            "25%    3.000000e-02    392.000000   2388.0    100.0     38.700000   \n",
            "50%    3.000000e-02    393.000000   2388.0    100.0     38.830000   \n",
            "75%    3.000000e-02    394.000000   2388.0    100.0     38.950000   \n",
            "max    3.000000e-02    400.000000   2388.0    100.0     39.430000   \n",
            "\n",
            "               s_21  \n",
            "count  20631.000000  \n",
            "mean      23.289705  \n",
            "std        0.108251  \n",
            "min       22.894200  \n",
            "25%       23.221800  \n",
            "50%       23.297900  \n",
            "75%       23.366800  \n",
            "max       23.618400  \n",
            "\n",
            "[8 rows x 26 columns]\n"
          ]
        }
      ],
      "source": [
        "print(\"Summary Statistics:\")\n",
        "print(traindf.describe())"
      ]
    },
    {
      "cell_type": "code",
      "execution_count": null,
      "id": "2adc82a5-3a5f-4b51-8664-e95555d08f59",
      "metadata": {
        "id": "2adc82a5-3a5f-4b51-8664-e95555d08f59"
      },
      "outputs": [],
      "source": [
        "def detect_outliers_zscore(traindf, threshold=3):\n",
        "    z_scores = np.abs(stats.zscore(traindf))\n",
        "    outliers = (z_scores > threshold).sum(axis=0)\n",
        "    return outliers"
      ]
    },
    {
      "cell_type": "code",
      "execution_count": null,
      "id": "bbe18136-bc3c-44a2-beb6-9dffe67ad35c",
      "metadata": {
        "id": "bbe18136-bc3c-44a2-beb6-9dffe67ad35c",
        "outputId": "b49041b2-36d9-4d42-a563-4111d76eb7f7"
      },
      "outputs": [
        {
          "name": "stdout",
          "output_type": "stream",
          "text": [
            "\n",
            "Outliers detected using Z-Score:\n",
            "s_1       0\n",
            "s_2      31\n",
            "s_3      47\n",
            "s_4      36\n",
            "s_5       0\n",
            "s_6     406\n",
            "s_7      34\n",
            "s_8     107\n",
            "s_9     521\n",
            "s_10      0\n",
            "s_11     23\n",
            "s_12     34\n",
            "s_13     83\n",
            "s_14    496\n",
            "s_15     33\n",
            "s_16      0\n",
            "s_17     81\n",
            "s_18      0\n",
            "s_19      0\n",
            "s_20     43\n",
            "s_21     34\n",
            "dtype: int64\n"
          ]
        }
      ],
      "source": [
        "print(\"\\nOutliers detected using Z-Score:\")\n",
        "print(detect_outliers_zscore(traindf[sensors]))"
      ]
    },
    {
      "cell_type": "markdown",
      "id": "271d3e32-1f5d-4ac2-ab3f-cfb27bf142cf",
      "metadata": {
        "jp-MarkdownHeadingCollapsed": true,
        "id": "271d3e32-1f5d-4ac2-ab3f-cfb27bf142cf"
      },
      "source": [
        "### <b>EXPLORATORY DATA VISUALIZATION</b>"
      ]
    },
    {
      "cell_type": "code",
      "execution_count": null,
      "id": "f996d24c-12d9-46d6-8761-32ec6046befd",
      "metadata": {
        "id": "f996d24c-12d9-46d6-8761-32ec6046befd",
        "outputId": "998c3ba9-57c5-4fee-f6a1-dbad91ce7c3f"
      },
      "outputs": [
        {
          "data": {
            "image/png": "[encoded data removed]",
            "text/plain": [
              "<Figure size 640x480 with 1 Axes>"
            ]
          },
          "metadata": {},
          "output_type": "display_data"
        }
      ],
      "source": [
        "max_cycles_per_unit = traindf[identification].groupby('unit_no')['cycle_times'].max()\n",
        "\n",
        "sns.set_style(\"white\")\n",
        "sns.histplot(\n",
        "    max_cycles_per_unit,\n",
        "    kde=True,\n",
        "    bins=20,\n",
        "    color='#B3A369',\n",
        ")\n",
        "\n",
        "\n",
        "plt.xlabel('Maximum Cycle Time', color='#003057')\n",
        "plt.ylabel('Density', color='#003057')\n",
        "plt.title('Distribution of Maximum Cycle Times', color='#003057')\n",
        "plt.gca().grid(False)\n",
        "\n",
        "plt.tight_layout()\n",
        "plt.savefig('max_cycle_dist.png', dpi=300)\n",
        "plt.show()"
      ]
    },
    {
      "cell_type": "code",
      "execution_count": null,
      "id": "8fe0e90f-a374-4bb8-ba22-be84642ac198",
      "metadata": {
        "id": "8fe0e90f-a374-4bb8-ba22-be84642ac198",
        "outputId": "d7eddae1-83a6-4b27-9a81-fd899c6fb1a3"
      },
      "outputs": [
        {
          "data": {
            "image/png": "[encoded data removed]",
            "text/plain": [
              "<Figure size 1200x1000 with 2 Axes>"
            ]
          },
          "metadata": {},
          "output_type": "display_data"
        }
      ],
      "source": [
        "sensorcols = traindf[sensors]\n",
        "\n",
        "correlation_matrix = sensorcols.corr()\n",
        "\n",
        "plt.figure(figsize=(12, 10))\n",
        "sns.heatmap(correlation_matrix, annot=False, cmap='coolwarm', cbar=True, square=True, fmt=\".2f\")\n",
        "plt.title('Sensor Correlation Heatmap')\n",
        "\n",
        "plt.tight_layout()\n",
        "plt.savefig('corrplotmain.png', dpi=300)\n",
        "plt.show()"
      ]
    },
    {
      "cell_type": "markdown",
      "id": "0f385def-58f9-4511-9060-91013c4f7831",
      "metadata": {
        "jp-MarkdownHeadingCollapsed": true,
        "id": "0f385def-58f9-4511-9060-91013c4f7831"
      },
      "source": [
        "### <b>EXPLORATORY DATA VISUALIZATION (RUL)</b>"
      ]
    },
    {
      "cell_type": "code",
      "execution_count": null,
      "id": "174d365e-3e66-44cc-a5e0-f28ee2d85a89",
      "metadata": {
        "colab": {
          "base_uri": "https://localhost:8080/"
        },
        "id": "174d365e-3e66-44cc-a5e0-f28ee2d85a89",
        "outputId": "1e86d827-0651-411b-aca7-95a141185375"
      },
      "outputs": [
        {
          "output_type": "stream",
          "name": "stdout",
          "text": [
            "   unit_no  cycle_times  RUL\n",
            "0        1            1  191\n",
            "1        1            2  190\n",
            "2        1            3  189\n",
            "3        1            4  188\n",
            "4        1            5  187\n"
          ]
        }
      ],
      "source": [
        "max_cycle_per_unit = traindf.groupby('unit_no')['cycle_times'].max().reset_index()\n",
        "max_cycle_per_unit.columns = ['unit_no', 'max_cycle']\n",
        "\n",
        "traindf = traindf.merge(max_cycle_per_unit, on='unit_no')\n",
        "\n",
        "\n",
        "traindf['RUL'] = traindf['max_cycle'] - traindf['cycle_times']\n",
        "\n",
        "traindf.drop(columns=['max_cycle'], inplace=True)\n",
        "\n",
        "print(traindf[['unit_no', 'cycle_times', 'RUL']].head())"
      ]
    },
    {
      "cell_type": "code",
      "execution_count": null,
      "id": "bce9cb3b-d41c-4305-8111-471520a4e595",
      "metadata": {
        "id": "bce9cb3b-d41c-4305-8111-471520a4e595"
      },
      "outputs": [],
      "source": [
        "def plot_sensor(sensor_name):\n",
        "    plt.figure(figsize=(12, 5))\n",
        "#this is based on every 10th unit as gotten from Peters, K. (2021). kpeters/exploring-nasas-turbofan-dataset. GitHub. Retrieved April 8, 2025, from https://github.com/kpeters/exploring-nasas-turbofan-dataset\n",
        "    for i in traindf['unit_no'].unique():\n",
        "        if i % 10 == 0:\n",
        "            plt.plot(\n",
        "                traindf[traindf['unit_no'] == i]['RUL'],\n",
        "                traindf[traindf['unit_no'] == i][sensor_name],\n",
        "                label=f'Engine {i}',\n",
        "                alpha=0.7\n",
        "            )\n",
        "\n",
        "    plt.xlim(240, 0)\n",
        "    plt.xticks(np.arange(0, 240, 25))\n",
        "\n",
        "    plt.xlabel('Remaining Useful Life (RUL)')\n",
        "    plt.ylabel(sensor_name)\n",
        "    plt.title(f'Sensor {sensor_name} vs RUL')\n",
        "\n",
        "    filename = f'sensor_{sensor_name}_rul.png'\n",
        "    plt.savefig(filename, dpi=300)\n",
        "\n",
        "    plt.close()\n",
        "\n",
        "\n",
        "\n",
        "for sensor_name in sensors:\n",
        "    plot_sensor(sensor_name)"
      ]
    },
    {
      "cell_type": "markdown",
      "id": "8799a197-445d-4cae-95d5-3d308370e3b1",
      "metadata": {
        "jp-MarkdownHeadingCollapsed": true,
        "id": "8799a197-445d-4cae-95d5-3d308370e3b1"
      },
      "source": [
        "### <b>FINAL DATA WRANGLING</b>"
      ]
    },
    {
      "cell_type": "code",
      "execution_count": null,
      "id": "d6fff412-833f-498b-900d-b7d13e441002",
      "metadata": {
        "id": "d6fff412-833f-498b-900d-b7d13e441002"
      },
      "outputs": [],
      "source": [
        "drop_cols = ['s_1', 's_5', 's_6', 's_10', 's_16', 's_18', 's_19']\n",
        "\n",
        "traindf = traindf.drop(columns=drop_cols)\n",
        "testdf = testdf.drop(columns=drop_cols)"
      ]
    },
    {
      "cell_type": "code",
      "execution_count": null,
      "id": "3730b7ac-c939-49f4-adc0-f732a2664b75",
      "metadata": {
        "id": "3730b7ac-c939-49f4-adc0-f732a2664b75"
      },
      "outputs": [],
      "source": [
        "traindf.to_csv('traindf.csv', index=False)\n",
        "testdf.to_csv('testdf.csv', index=False)"
      ]
    }
  ],
  "metadata": {
    "kernelspec": {
      "display_name": "Python 3 (ipykernel)",
      "language": "python",
      "name": "python3"
    },
    "language_info": {
      "codemirror_mode": {
        "name": "ipython",
        "version": 3
      },
      "file_extension": ".py",
      "mimetype": "text/x-python",
      "name": "python",
      "nbconvert_exporter": "python",
      "pygments_lexer": "ipython3",
      "version": "3.12.7"
    },
    "colab": {
      "provenance": [],
      "collapsed_sections": [
        "523c70e6-43a5-419b-bb5e-268e1c46e9c5",
        "57d25fff-0ad1-4d11-b5f5-2151d027b6c0",
        "271d3e32-1f5d-4ac2-ab3f-cfb27bf142cf",
        "0f385def-58f9-4511-9060-91013c4f7831",
        "8799a197-445d-4cae-95d5-3d308370e3b1"
      ]
    }
  },
  "nbformat": 4,
  "nbformat_minor": 5
}